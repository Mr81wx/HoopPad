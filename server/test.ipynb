{
  "cells": [
    {
      "cell_type": "code",
      "execution_count": null,
      "id": "yjRMdiUYnm9P",
      "metadata": {
        "colab": {
          "base_uri": "https://localhost:8080/"
        },
        "id": "yjRMdiUYnm9P",
        "outputId": "13aff117-0a4a-4912-fe24-01763e7cde59",
        "scrolled": true
      },
      "outputs": [],
      "source": [
        "#load model package\n",
        "#!pip3 install pytorch_lightning"
      ]
    },
    {
      "cell_type": "code",
      "execution_count": 2,
      "id": "81315f24",
      "metadata": {},
      "outputs": [
        {
          "name": "stdout",
          "output_type": "stream",
          "text": [
            "Cloning into 'Visualizer'...\n",
            "remote: Enumerating objects: 240, done.\u001b[K\n",
            "remote: Counting objects: 100% (240/240), done.\u001b[K\n",
            "remote: Compressing objects: 100% (207/207), done.\u001b[K\n",
            "remote: Total 240 (delta 37), reused 225 (delta 28), pack-reused 0\u001b[K\n",
            "Receiving objects: 100% (240/240), 3.83 MiB | 13.52 MiB/s, done.\n",
            "Resolving deltas: 100% (37/37), done.\n",
            "zsh:1: command not found: python\n"
          ]
        },
        {
          "ename": "ModuleNotFoundError",
          "evalue": "No module named 'visualizer'",
          "output_type": "error",
          "traceback": [
            "\u001b[0;31m---------------------------------------------------------------------------\u001b[0m",
            "\u001b[0;31mModuleNotFoundError\u001b[0m                       Traceback (most recent call last)",
            "Cell \u001b[0;32mIn[2], line 8\u001b[0m\n\u001b[1;32m      6\u001b[0m \u001b[38;5;66;03m# os.chdir('/HoopPad/Visualizer/')\u001b[39;00m\n\u001b[1;32m      7\u001b[0m get_ipython()\u001b[38;5;241m.\u001b[39msystem(\u001b[38;5;124m'\u001b[39m\u001b[38;5;124mpython setup.py install\u001b[39m\u001b[38;5;124m'\u001b[39m)\n\u001b[0;32m----> 8\u001b[0m \u001b[38;5;28;01mfrom\u001b[39;00m \u001b[38;5;21;01mvisualizer\u001b[39;00m \u001b[38;5;28;01mimport\u001b[39;00m get_local\n\u001b[1;32m      9\u001b[0m get_local\u001b[38;5;241m.\u001b[39mactivate()\n",
            "\u001b[0;31mModuleNotFoundError\u001b[0m: No module named 'visualizer'"
          ]
        }
      ],
      "source": [
        "#load attention map package\n",
        "import os\n",
        "\n",
        "#!pip install bytecode\n",
        "!git clone https://github.com/luo3300612/Visualizer.git\n",
        "# os.chdir('/HoopPad/Visualizer/')\n",
        "!python setup.py install\n",
        "from visualizer import get_local\n",
        "get_local.activate()"
      ]
    },
    {
      "cell_type": "code",
      "execution_count": 7,
      "id": "eXdeovlNOFJ1",
      "metadata": {
        "colab": {
          "base_uri": "https://localhost:8080/"
        },
        "id": "eXdeovlNOFJ1",
        "outputId": "e4e0bbe4-d3f0-43dc-ef8b-ce1c52e72140"
      },
      "outputs": [],
      "source": [
        "import os\n",
        "import glob\n",
        "os.chdir('/')"
      ]
    },
    {
      "cell_type": "code",
      "execution_count": 11,
      "id": "tHdn4K9aYGVp",
      "metadata": {
        "id": "tHdn4K9aYGVp"
      },
      "outputs": [
        {
          "ename": "ModuleNotFoundError",
          "evalue": "No module named 'cv2'",
          "output_type": "error",
          "traceback": [
            "\u001b[0;31m---------------------------------------------------------------------------\u001b[0m",
            "\u001b[0;31mModuleNotFoundError\u001b[0m                       Traceback (most recent call last)",
            "Cell \u001b[0;32mIn[11], line 9\u001b[0m\n\u001b[1;32m      7\u001b[0m \u001b[38;5;28;01mimport\u001b[39;00m \u001b[38;5;21;01mnumpy\u001b[39;00m \u001b[38;5;28;01mas\u001b[39;00m \u001b[38;5;21;01mnp\u001b[39;00m\n\u001b[1;32m      8\u001b[0m \u001b[38;5;28;01mfrom\u001b[39;00m \u001b[38;5;21;01mPIL\u001b[39;00m \u001b[38;5;28;01mimport\u001b[39;00m Image,ImageFont,ImageDraw\n\u001b[0;32m----> 9\u001b[0m \u001b[38;5;28;01mimport\u001b[39;00m \u001b[38;5;21;01mcv2\u001b[39;00m\n\u001b[1;32m     10\u001b[0m \u001b[38;5;28;01mimport\u001b[39;00m \u001b[38;5;21;01mimageio\u001b[39;00m\n\u001b[1;32m     11\u001b[0m \u001b[38;5;28;01mdef\u001b[39;00m \u001b[38;5;21mdraw_cycle\u001b[39m(player,radius,court_side):\n",
            "\u001b[0;31mModuleNotFoundError\u001b[0m: No module named 'cv2'"
          ]
        }
      ],
      "source": [
        "import sys\n",
        "sys.path.append('/Users/yufu/Documents/Code/HoopPad/vis')\n",
        "from Ball import Ball\n",
        "from Player_v import Player_v\n",
        "from Moment import Moment\n",
        "from Constant import Constant\n",
        "import numpy as np\n",
        "from PIL import Image,ImageFont,ImageDraw\n",
        "import cv2\n",
        "import imageio\n",
        "def draw_cycle(player,radius,court_side):\n",
        "    if court_side:\n",
        "        center_x = (94 - player.x) * 10\n",
        "        center_y = (50 - player.y) * 10\n",
        "    else:\n",
        "        center_x = player.x * 10\n",
        "        center_y = player.y * 10\n",
        "    #center_x = np.random.normal(scale=0.5) + center_x\n",
        "    #center_x = np.random.normal(scale=0.5) + center_x\n",
        "    x1, y1 = center_x - radius, center_y - radius\n",
        "    x2, y2 = center_x + radius, center_y + radius\n",
        "\n",
        "    return((x1,y1,x2,y2))\n",
        "\n",
        "\n",
        "\n",
        "def create_gif(scene,sample_size):\n",
        "\n",
        "    game_id = scene.gameid\n",
        "    event_id = scene.id\n",
        "    moments = [Moment(moment) for moment in scene.moments]\n",
        "\n",
        "\n",
        "    image = Image.open('/Users/yufu/Documents/Code/HoopPad/vis/half.jpg')\n",
        "    draw = ImageDraw.Draw(image)\n",
        "    radius = 10\n",
        "    teamid = scene.off_teamid\n",
        "    court_side = moments[0].ball.x > 47.0\n",
        "\n",
        "    color = (0, 0, 0)\n",
        "    font_path = os.path.join(cv2.__path__[0],'qt','fonts','DejaVuSans.ttf')\n",
        "    font = ImageFont.truetype(font_path, size=18)\n",
        "\n",
        "    frames = []\n",
        "    frame_num = 1\n",
        "\n",
        "    for moment in moments[::sample_size]:\n",
        "        frame_img = Image.open('/Users/yufu/Documents/Code/HoopPad/vis/half.jpg')\n",
        "\n",
        "        # 创建新的ImageDraw对象\n",
        "        frame_draw = ImageDraw.Draw(frame_img)\n",
        "        player_num = 0\n",
        "        for player in moment.players:\n",
        "            if player.team.id == teamid:\n",
        "                x1, y1, x2, y2 = draw_cycle(player,10,court_side )\n",
        "                frame_draw.ellipse([(x1, y1), (x2, y2)], fill=(255, 0, 0))\n",
        "                player_num = player_num + 1\n",
        "                text = str(player_num)  # 您要写的数字\n",
        "                text_bbox = draw.textbbox((x1, y1), text, font=font)\n",
        "\n",
        "                # 提取文本的宽度和高度\n",
        "                text_width = text_bbox[2] - text_bbox[0]\n",
        "                #text_height = text_bbox[3] - text_bbox[1]\n",
        "\n",
        "                # 计算文本的位置，以确保文本位于圆的中心\n",
        "                text_x = x1 + radius - text_width // 2\n",
        "                #text_y = y1 + radius - text_height // 2\n",
        "\n",
        "                frame_draw.text((text_x, y1), text, fill=color, font=font)\n",
        "            else:\n",
        "                x1, y1, x2, y2 = draw_cycle(player,10,court_side )\n",
        "                frame_draw.ellipse([(x1, y1), (x2, y2)], fill=(0, 0, 255))\n",
        "                player_num = player_num +1\n",
        "                text = str(player_num)\n",
        "                text_bbox = draw.textbbox((x1, y1), text, font=font)\n",
        "\n",
        "                # 提取文本的宽度和高度\n",
        "                text_width = text_bbox[2] - text_bbox[0]\n",
        "                #text_height = text_bbox[3] - text_bbox[1]\n",
        "\n",
        "                # 计算文本的位置，以确保文本位于圆的中心\n",
        "                text_x = x1 + radius - text_width // 2\n",
        "                #text_y = y1 + radius - text_height // 2\n",
        "                frame_draw.text((text_x, y1), text, fill=(255, 255, 255), font=font)\n",
        "\n",
        "\n",
        "\n",
        "        ball = moment.ball\n",
        "        frame_draw.ellipse(draw_cycle(ball,10,court_side ), fill=(0, 255, 0))\n",
        "\n",
        "        #标记第几帧\n",
        "        text = 'frame:'+ str(frame_num)\n",
        "        text_bbox = draw.textbbox((300, 25), text, font=font)\n",
        "        frame_draw.text((300, 25), text, fill=color, font=font)\n",
        "\n",
        "        frames.append(frame_img.copy())\n",
        "        frame_num +=1\n",
        "\n",
        "    #save_name = play_name + '/'+ str(game_id) + '_' + str(event_id) + '_'+ str(frame_num) + '.mp4'\n",
        "    save_name = str(game_id) + '_' + str(event_id) + '_'+ str(frame_num) + '.mp4'\n",
        "    print(save_name)\n",
        "    #frames[0].save(save_name, format='GIF', append_images=frames[1:], save_all=True, duration=0.2, loop=0)\n",
        "    fps = 15  # 帧率\n",
        "    imageio.mimsave(save_name, frames, format='mp4', fps=fps)\n",
        "    frame_img.close()"
      ]
    },
    {
      "cell_type": "code",
      "execution_count": 6,
      "id": "3d27037c",
      "metadata": {
        "id": "3d27037c"
      },
      "outputs": [],
      "source": [
        "import os\n",
        "import glob\n",
        "root_dir = 'HoopPad/Data'\n",
        "filelist = glob.glob(os.path.join(root_dir, '*.pkl'), recursive=True)\n",
        "#filelist = [os.path.join(root_dir, f) for f in os.listdir(root_dir)]\n",
        "len(filelist)"
      ]
    },
    {
      "cell_type": "code",
      "execution_count": 1,
      "id": "YxMcCYRkcEg8",
      "metadata": {
        "id": "YxMcCYRkcEg8"
      },
      "outputs": [
        {
          "ename": "NameError",
          "evalue": "name 'filelist' is not defined",
          "output_type": "error",
          "traceback": [
            "\u001b[0;31m---------------------------------------------------------------------------\u001b[0m",
            "\u001b[0;31mNameError\u001b[0m                                 Traceback (most recent call last)",
            "Cell \u001b[0;32mIn[1], line 10\u001b[0m\n\u001b[1;32m      8\u001b[0m \u001b[38;5;28;01mfrom\u001b[39;00m \u001b[38;5;21;01mModel\u001b[39;00m\u001b[38;5;21;01m.\u001b[39;00m\u001b[38;5;21;01mpossession\u001b[39;00m \u001b[38;5;28;01mimport\u001b[39;00m \u001b[38;5;241m*\u001b[39m\n\u001b[1;32m      9\u001b[0m scene_list \u001b[38;5;241m=\u001b[39m []\n\u001b[0;32m---> 10\u001b[0m \u001b[38;5;28;01mfor\u001b[39;00m filepath \u001b[38;5;129;01min\u001b[39;00m \u001b[43mfilelist\u001b[49m:\n\u001b[1;32m     11\u001b[0m     \u001b[38;5;28;01mwith\u001b[39;00m \u001b[38;5;28mopen\u001b[39m(filepath, \u001b[38;5;124m'\u001b[39m\u001b[38;5;124mrb\u001b[39m\u001b[38;5;124m'\u001b[39m) \u001b[38;5;28;01mas\u001b[39;00m f:\n\u001b[1;32m     12\u001b[0m         scene \u001b[38;5;241m=\u001b[39m pickle\u001b[38;5;241m.\u001b[39mload(f)\n",
            "\u001b[0;31mNameError\u001b[0m: name 'filelist' is not defined"
          ]
        }
      ],
      "source": [
        "import sys\n",
        "\n",
        "\n",
        "import pickle\n",
        "import math\n",
        "import numpy as np\n",
        "import pandas as pd\n",
        "from Model.possession import *\n",
        "scene_list = []\n",
        "for filepath in filelist:\n",
        "    with open(filepath, 'rb') as f:\n",
        "        scene = pickle.load(f)\n",
        "        if len(scene.time_24s) >= 150:\n",
        "            scene_list.append(scene)\n",
        "len(scene_list)"
      ]
    },
    {
      "cell_type": "code",
      "execution_count": 10,
      "id": "Yw9Mn7eK8lEB",
      "metadata": {
        "id": "Yw9Mn7eK8lEB"
      },
      "outputs": [],
      "source": [
        "# To do add player embedding\n",
        "def get_newid(playerid,df):\n",
        "    if playerid in df['playerid'].values:\n",
        "        newid = df[df['playerid'] == playerid]['UnifiedPlayerID'].values[0]\n",
        "    else:\n",
        "        newid = df['UnifiedPlayerID'].max() + 1\n",
        "        df.loc[len(df)] = {'playerid': playerid, 'UnifiedPlayerID': newid}\n",
        "\n",
        "    return newid"
      ]
    },
    {
      "cell_type": "code",
      "execution_count": 11,
      "id": "Po-lrGR6nS31",
      "metadata": {
        "id": "Po-lrGR6nS31"
      },
      "outputs": [],
      "source": [
        "scene = scene_list[134]\n",
        "batch = [scene]\n"
      ]
    },
    {
      "cell_type": "code",
      "execution_count": null,
      "id": "b7020e1e",
      "metadata": {},
      "outputs": [],
      "source": []
    },
    {
      "cell_type": "markdown",
      "id": "zsaIGrh0mifm",
      "metadata": {
        "id": "zsaIGrh0mifm"
      },
      "source": [
        "### **Generate defense according to offense**\n",
        "\n",
        "\n",
        "\n",
        "\n",
        "\n"
      ]
    },
    {
      "cell_type": "code",
      "execution_count": 14,
      "id": "3YJGsk6dYESJ",
      "metadata": {
        "id": "3YJGsk6dYESJ"
      },
      "outputs": [],
      "source": [
        "def create_def(batch): #batch代表n个scene\n",
        "\n",
        "    sample_freq = 5\n",
        "    sequence_length = int(24*25/sample_freq + 1)\n",
        "    list_24s = [i*(1/sample_freq) for i in range(0, sequence_length)]\n",
        "    list_24s.reverse()\n",
        "\n",
        "    time_steps = sequence_length\n",
        "    states_batch = np.array([]).reshape(-1,time_steps,3)\n",
        "    states_padding_batch = np.array([]).reshape(-1,time_steps)\n",
        "    states_hidden_BP_batch = np.array([]).reshape(-1,time_steps)\n",
        "    num_agents = np.array([])\n",
        "\n",
        "    agent_ids_batch = np.array([]) #每一个batch的agent ids, = batch size * 11\n",
        "    team_ids_batch = np.array([])\n",
        "\n",
        "    player_newids = pd.read_csv('/content/drive/MyDrive/EPV/DataLoader/players.csv')\n",
        "    for scene in batch:\n",
        "        scene_tensor = None\n",
        "        agent_ids = np.array([])\n",
        "        team_ids = np.array([])\n",
        "        for i in range(len(scene.agents)):\n",
        "            agent = scene.agents[i]\n",
        "            agent_id = get_newid(agent.playerid,player_newids)\n",
        "            agent_ids = np.append(agent_ids,agent_id)\n",
        "            #x = np.array(agent.x)[::sample_freq] #间隔sample_freq个取值\n",
        "            #y = np.array(agent.y)[::sample_freq] #间隔sample_freq个取值\n",
        "            #v = np.array(agent.v)[::sample_freq] #间隔sample_freq个取值\n",
        "            #single_agent_tensor = torch.Tensor([[x,y,v]])\n",
        "\n",
        "            agent_team = agent.teamid\n",
        "\n",
        "            if agent_team == -1:\n",
        "                team_ids= np.append(team_ids,0)\n",
        "            elif agent_team == scene.off_teamid:\n",
        "                team_ids = np.append(team_ids,1)\n",
        "            else:\n",
        "                team_ids = np.append(team_ids,2)\n",
        "\n",
        "            single_agent_tensor = torch.Tensor([[x,y,v] for x,y,v in zip(agent.x,agent.y, agent.v)][::sample_freq])\n",
        "            single_agent_tensor = single_agent_tensor.permute(1, 0)\n",
        "            single_agent_tensor = torch.unsqueeze(single_agent_tensor, 0)\n",
        "            single_agent_tensor = single_agent_tensor.to(torch.float)\n",
        "\n",
        "            if scene_tensor == None:\n",
        "                scene_tensor = single_agent_tensor\n",
        "            else:\n",
        "                scene_tensor = torch.cat([scene_tensor, single_agent_tensor], dim=0) #获得6个agent的tensor shape=[6,3,time_steps]\n",
        "        #补齐A的维度为6\n",
        "        A,D,T = scene_tensor.size()\n",
        "\n",
        "        #补齐A的维度为11\n",
        "        A,D,T = scene_tensor.size()\n",
        "        # 如果agents 不足11个：用-1 补齐scence_tensor,agent_ids也用-1补齐\n",
        "        if A < 11:\n",
        "            new_dim = torch.full((11-A, D, T), -1)\n",
        "            scene_tensor = torch.cat([new_dim, scene_tensor], dim=0)\n",
        "            agent_ids = np.pad(agent_ids, (11 - A, 0), 'constant', constant_values=(-1,))\n",
        "            team_ids = np.pad(team_ids, (11 - A, 0), 'constant', constant_values=(-1,))\n",
        "\n",
        "\n",
        "        scene_tensor = torch.transpose(scene_tensor , dim0=1, dim1=2) #shape[A,T,D]\n",
        "\n",
        "        time_24s = scene.time_24s[::sample_freq] #间隔sample_freq个取值\n",
        "        if len(time_24s) < 30:\n",
        "            continue\n",
        "\n",
        "        end_padding_size =  121 - len(time_24s) #endtime～0\n",
        "\n",
        "        states_feat = torch.nn.functional.pad(scene_tensor,  (0, 0, 1, end_padding_size-1, 0, 0), mode='constant', value=-1) #[6,121,3]\n",
        "        states_padding = states_feat[:,:,0]\n",
        "        states_padding = states_padding < 0 #bool型，[6,121] True为padding，ignore\n",
        "\n",
        "        team_ids_batch = np.append(team_ids_batch,team_ids) # team_classification for task 3 (0-ball,1-off,2-def)\n",
        "        def_index = np.where(team_ids_batch == 2)[0]\n",
        "\n",
        "        states_hidden = np.zeros((11,121)).astype(np.bool_) # True 为hidden，这里不需要hidden,all false\n",
        "        states_hidden[def_index,5:(T+1)] = True\n",
        "        agent_ids_batch = np.append(agent_ids_batch,agent_ids) #player_embedding\n",
        "\n",
        "\n",
        "        num_agents = np.append(num_agents, len(states_feat)) # numpy array(batch_size,) [11,11,11,11,11] #show which row is from same possession\n",
        "\n",
        "        states_batch = np.concatenate((states_batch,states_feat), axis=0)\n",
        "        states_padding_batch = np.concatenate((states_padding_batch,states_padding), axis=0)\n",
        "        states_hidden_BP_batch = np.concatenate((states_hidden_BP_batch,states_hidden), axis=0)\n",
        "\n",
        "    num_agents_accum = np.cumsum(np.insert(num_agents,0,0)).astype(np.int64)\n",
        "    agents_batch_mask = np.ones((num_agents_accum[-1],num_agents_accum[-1])) #0代表一个回合内，需要attention\n",
        "\n",
        "    for i in range(len(num_agents)):\n",
        "        agents_batch_mask[num_agents_accum[i]:num_agents_accum[i+1], num_agents_accum[i]:num_agents_accum[i+1]] = 0\n",
        "\n",
        "    states_batch = torch.FloatTensor(states_batch)\n",
        "    agents_batch_mask = torch.BoolTensor(agents_batch_mask)\n",
        "    states_padding_batch = torch.BoolTensor(states_padding_batch)\n",
        "    states_hidden_BP_batch = torch.BoolTensor(states_hidden_BP_batch)\n",
        "\n",
        "    agent_ids_batch = torch.FloatTensor(agent_ids_batch)\n",
        "    team_ids_batch = torch.FloatTensor(team_ids_batch)\n",
        "    labels_batch = torch.FloatTensor(team_ids_batch)\n",
        "\n",
        "\n",
        "    return (states_batch, agents_batch_mask, states_padding_batch, states_hidden_BP_batch,num_agents_accum,agent_ids_batch,team_ids_batch,labels_batch)\n"
      ]
    },
    {
      "cell_type": "code",
      "execution_count": 16,
      "id": "z2MHFKvvmPlp",
      "metadata": {
        "id": "z2MHFKvvmPlp"
      },
      "outputs": [],
      "source": [
        "states_batch, agents_batch_mask, states_padding_batch, states_hidden_BP_batch,num_agents_accum,agent_ids_batch,team_ids_batch,labels_batch = create_def(batch)"
      ]
    },
    {
      "cell_type": "code",
      "execution_count": 28,
      "id": "3uk-rcovvL-c",
      "metadata": {
        "colab": {
          "base_uri": "https://localhost:8080/"
        },
        "id": "3uk-rcovvL-c",
        "outputId": "2a2f948b-b23f-4f44-9aab-9bce5095261d"
      },
      "outputs": [
        {
          "data": {
            "text/plain": [
              "<All keys matched successfully>"
            ]
          },
          "execution_count": 28,
          "metadata": {},
          "output_type": "execute_result"
        }
      ],
      "source": [
        "#load model parameters\n",
        "import torch\n",
        "\n",
        "from Model.module_all import HoopTransformer\n",
        "\n",
        "Scene_model = HoopTransformer(3,121,256,4,4,1,50,0.1,32,5e-5,[1])\n",
        "\n",
        "from Model.motion_module import *\n",
        "base_model = test_model_motion(Scene_model,num_unfreeze = 0)\n",
        "\n",
        "Test_model = Scene_Motion(model=base_model,lr=1e-3)\n",
        "\n",
        "ckp_path = '/Checkpoints/V2_prompt.ckpt'\n",
        "\n",
        "checkpoint = torch.load(ckp_path, map_location=lambda storage, loc: storage)\n",
        "Test_model.load_state_dict(checkpoint['state_dict'])"
      ]
    },
    {
      "cell_type": "code",
      "execution_count": 31,
      "id": "jz42uRsxm8DT",
      "metadata": {
        "id": "jz42uRsxm8DT"
      },
      "outputs": [],
      "source": [
        "Test_model.to('cpu')\n",
        "Test_model.eval()\n",
        "\n",
        "get_local.clear()\n",
        "\n",
        "with torch.no_grad():\n",
        "    out = Test_model(states_batch, agents_batch_mask, states_padding_batch, states_hidden_BP_batch,agent_ids_batch,team_ids_batch)\n",
        "\n",
        "out.shape\n",
        "F = out[:,:,0,::2]"
      ]
    },
    {
      "cell_type": "code",
      "execution_count": null,
      "id": "BXvpxnhJJoYU",
      "metadata": {
        "colab": {
          "base_uri": "https://localhost:8080/"
        },
        "id": "BXvpxnhJJoYU",
        "outputId": "7f62d2cf-e45e-4298-bb72-f8b135e34ae7"
      },
      "outputs": [
        {
          "name": "stdout",
          "output_type": "stream",
          "text": [
            "['SelfAttLayer_Enc.forward', 'SelfAttLayer_Dec.forward']\n"
          ]
        }
      ],
      "source": [
        "# create attention map\n",
        "cache = get_local.cache\n",
        "print(list(cache.keys()))\n",
        "attention_maps = cache['SelfAttLayer_Dec.forward']\n",
        "attention_maps[3].shape\n",
        "\n",
        "att_map_3 = attention_maps[3]#F,timestep,agents,attention\n",
        "\n",
        "att_map_1 = attention_maps[1] #F,timestep,agents,attention\n",
        "\n",
        "matrix = att_map_3[15,0:6,:-1]\n",
        "plt.imshow(matrix, cmap='hot', interpolation='nearest')"
      ]
    },
    {
      "cell_type": "code",
      "execution_count": 26,
      "id": "fFz1K18c2Bwz",
      "metadata": {
        "id": "fFz1K18c2Bwz"
      },
      "outputs": [],
      "source": [
        "def create_gif_ghost(scene,sample_size,F,version):\n",
        "\n",
        "    game_id = scene.gameid\n",
        "    event_id = scene.id\n",
        "    moments = [Moment(moment) for moment in scene.moments]\n",
        "\n",
        "\n",
        "    image = Image.open('/Users/yufu/Documents/Code/HoopPad/vis/half.jpg').convert(\"RGBA\")\n",
        "    draw = ImageDraw.Draw(image)\n",
        "    radius = 10\n",
        "    teamid = scene.off_teamid\n",
        "    court_side = moments[0].ball.x > 47.0\n",
        "\n",
        "    color = (0, 0, 0,255)\n",
        "    font_path = os.path.join(cv2.__path__[0],'qt','fonts','DejaVuSans.ttf')\n",
        "    font = ImageFont.truetype(font_path, size=18)\n",
        "\n",
        "    frames = []\n",
        "    frame_num = 1\n",
        "\n",
        "    moments_ = moments[::sample_size]\n",
        "\n",
        "    for moment in moments_:\n",
        "        frame_img = Image.open('/Users/yufu/Documents/Code/HoopPad/vis/half.jpg').convert(\"RGBA\")\n",
        "\n",
        "        # 创建新的ImageDraw对象\n",
        "        frame_draw = ImageDraw.Draw(frame_img)\n",
        "        player_num = 0\n",
        "\n",
        "        for player in moment.players:\n",
        "            if player.team.id == teamid:\n",
        "                x1, y1, x2, y2 = draw_cycle(player,10,court_side )\n",
        "                frame_draw.ellipse([(x1, y1), (x2, y2)], fill=(255, 0, 0,255))\n",
        "                player_num = player_num + 1\n",
        "                text = str(player_num)  # 您要写的数字\n",
        "                text_bbox = draw.textbbox((x1, y1), text, font=font)\n",
        "\n",
        "                # 提取文本的宽度和高度\n",
        "                text_width = text_bbox[2] - text_bbox[0]\n",
        "                #text_height = text_bbox[3] - text_bbox[1]\n",
        "\n",
        "                # 计算文本的位置，以确保文本位于圆的中心\n",
        "                text_x = x1 + radius - text_width // 2\n",
        "                #text_y = y1 + radius - text_height // 2\n",
        "\n",
        "                frame_draw.text((text_x, y1), text, fill=color, font=font)\n",
        "            else:\n",
        "                x1, y1, x2, y2 = draw_cycle(player,10,court_side )\n",
        "                frame_draw.ellipse([(x1, y1), (x2, y2)], fill=(0, 0, 255,255))\n",
        "                player_num = player_num +1\n",
        "                text = str(player_num)\n",
        "                text_bbox = draw.textbbox((x1, y1), text, font=font)\n",
        "\n",
        "                # 提取文本的宽度和高度\n",
        "                text_width = text_bbox[2] - text_bbox[0]\n",
        "                #text_height = text_bbox[3] - text_bbox[1]\n",
        "\n",
        "                # 计算文本的位置，以确保文本位于圆的中心\n",
        "                text_x = x1 + radius - text_width // 2\n",
        "                #text_y = y1 + radius - text_height // 2\n",
        "                frame_draw.text((text_x, y1), text, fill=(255, 255, 255,255), font=font)\n",
        "\n",
        "                if frame_num >= 5:\n",
        "                    x1 = F[player_num,frame_num,0]*10 - 10\n",
        "                    x2 = F[player_num,frame_num,0]*10 + 10\n",
        "                    y1 = F[player_num,frame_num,1]*10 - 10\n",
        "                    y2 = F[player_num,frame_num,1]*10 + 10\n",
        "                    frame_draw.ellipse([(x1, y1), (x2, y2)], fill=(0, 255, 255,77))\n",
        "                    text = str(player_num)\n",
        "                    text_bbox = draw.textbbox((x1, y1), text, font=font)\n",
        "\n",
        "                    text_width = text_bbox[2] - text_bbox[0]\n",
        "                    #text_height = text_bbox[3] - text_bbox[1]\n",
        "\n",
        "                    # 计算文本的位置，以确保文本位于圆的中心\n",
        "                    text_x = x1 + radius - text_width // 2\n",
        "                    #text_y = y1 + radius - text_height // 2\n",
        "                    frame_draw.text((text_x, y1), text, fill=(255, 255, 255,77), font=font)\n",
        "\n",
        "\n",
        "\n",
        "        ball = moment.ball\n",
        "        frame_draw.ellipse(draw_cycle(ball,10,court_side ), fill=(0, 255, 0,255))\n",
        "\n",
        "        #标记第几帧\n",
        "        text = 'frame:'+ str(frame_num)\n",
        "        text_bbox = draw.textbbox((300, 25), text, font=font)\n",
        "        frame_draw.text((300, 25), text, fill=color, font=font)\n",
        "\n",
        "        frames.append(frame_img.copy())\n",
        "        frame_num +=1\n",
        "\n",
        "    #save_name = play_name + '/'+ str(game_id) + '_' + str(event_id) + '_'+ str(frame_num) + '.mp4'\n",
        "    save_name = str(game_id) + '_' + str(event_id) + '_'+ str(frame_num) + str(version)+'.mp4'\n",
        "    print(save_name)\n",
        "    #frames[0].save(save_name, format='GIF', append_images=frames[1:], save_all=True, duration=0.2, loop=0)\n",
        "    fps = 2  # 帧率\n",
        "    imageio.mimsave(save_name, frames, format='mp4', fps=fps)\n",
        "\n",
        "\n",
        "    frame_img.close()"
      ]
    },
    {
      "cell_type": "code",
      "execution_count": 32,
      "id": "Pp9W5Zs86uf6",
      "metadata": {
        "colab": {
          "base_uri": "https://localhost:8080/"
        },
        "id": "Pp9W5Zs86uf6",
        "outputId": "4b1a1093-09d3-48b2-8e32-d5a9c7307ae7"
      },
      "outputs": [
        {
          "name": "stderr",
          "output_type": "stream",
          "text": [
            "WARNING:imageio_ffmpeg:IMAGEIO FFMPEG_WRITER WARNING: input image is not divisible by macro_block_size=16, resizing from (470, 500) to (480, 512) to ensure video compatibility with most codecs and players. To prevent resizing, make your input image divisible by the macro_block_size or set the macro_block_size to 1 (risking incompatibility).\n"
          ]
        },
        {
          "name": "stdout",
          "output_type": "stream",
          "text": [
            "0021500356_11_80V1.mp4\n"
          ]
        }
      ],
      "source": [
        "create_gif_ghost(scene,5,F,'V1')"
      ]
    },
    {
      "cell_type": "markdown",
      "id": "AJ2-p1fo-Gns",
      "metadata": {
        "id": "AJ2-p1fo-Gns"
      },
      "source": [
        "Add prompt"
      ]
    },
    {
      "cell_type": "code",
      "execution_count": null,
      "id": "xFl9q5dF-P2q",
      "metadata": {
        "id": "xFl9q5dF-P2q"
      },
      "outputs": [],
      "source": [
        "#让1和3在53帧的时候在原来的位置\n",
        "states_hidden_BP_batch[1,53] = False\n",
        "states_hidden_BP_batch[3,53] = False\n",
        "states_hidden_BP_batch[2,57] = False\n",
        "#让1，5在 61-66换位置（换人）\n",
        "pos = states_batch[1,61:66,:]\n",
        "states_batch[1,61:66,:] = states_batch[5,61:66,:]\n",
        "states_batch[5,61:66,:] = pos\n",
        "states_hidden_BP_batch[1,61:66] = False\n",
        "states_hidden_BP_batch[5,61:66] = False"
      ]
    },
    {
      "cell_type": "code",
      "execution_count": null,
      "id": "NYJnnJcnB5LJ",
      "metadata": {
        "id": "NYJnnJcnB5LJ"
      },
      "outputs": [],
      "source": [
        "Test_model.to('cpu')\n",
        "Test_model.eval()\n",
        "\n",
        "get_local.clear()\n",
        "\n",
        "with torch.no_grad():\n",
        "    out = Test_model(states_batch, agents_batch_mask, states_padding_batch, states_hidden_BP_batch,agent_ids_batch,team_ids_batch)\n",
        "\n",
        "out.shape\n",
        "F = out[:,:,0,::2]"
      ]
    },
    {
      "cell_type": "code",
      "execution_count": null,
      "id": "unAlH3lH_CEU",
      "metadata": {
        "colab": {
          "base_uri": "https://localhost:8080/"
        },
        "id": "unAlH3lH_CEU",
        "outputId": "78c4f358-046f-4a9e-b2d0-eda2473a676e"
      },
      "outputs": [
        {
          "name": "stderr",
          "output_type": "stream",
          "text": [
            "WARNING:imageio_ffmpeg:IMAGEIO FFMPEG_WRITER WARNING: input image is not divisible by macro_block_size=16, resizing from (470, 500) to (480, 512) to ensure video compatibility with most codecs and players. To prevent resizing, make your input image divisible by the macro_block_size or set the macro_block_size to 1 (risking incompatibility).\n"
          ]
        },
        {
          "name": "stdout",
          "output_type": "stream",
          "text": [
            "0021500356_11promptprompt_2prompt_2prompt_2_803.mp4\n"
          ]
        }
      ],
      "source": [
        "create_gif_ghost(scene,5,F,'Prompt')"
      ]
    }
  ],
  "metadata": {
    "accelerator": "GPU",
    "colab": {
      "gpuType": "T4",
      "provenance": []
    },
    "kernelspec": {
      "display_name": "Python 3",
      "language": "python",
      "name": "python3"
    },
    "language_info": {
      "codemirror_mode": {
        "name": "ipython",
        "version": 3
      },
      "file_extension": ".py",
      "mimetype": "text/x-python",
      "name": "python",
      "nbconvert_exporter": "python",
      "pygments_lexer": "ipython3",
      "version": "3.11.7"
    }
  },
  "nbformat": 4,
  "nbformat_minor": 5
}
